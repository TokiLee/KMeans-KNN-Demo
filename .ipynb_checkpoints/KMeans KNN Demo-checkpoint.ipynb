{
 "cells": [
  {
   "cell_type": "markdown",
   "metadata": {},
   "source": [
    "# KMeans and KNN Demonstration\n",
    "\n"
   ]
  },
  {
   "cell_type": "code",
   "execution_count": 1,
   "metadata": {},
   "outputs": [],
   "source": [
    "import math\n",
    "import matplotlib.pyplot as plt\n",
    "from scipy import stats\n",
    "import numpy as np\n",
    "import time\n",
    "\n",
    "from mpl_toolkits.mplot3d import Axes3D"
   ]
  },
  {
   "cell_type": "markdown",
   "metadata": {},
   "source": [
    "## - File Handling"
   ]
  },
  {
   "cell_type": "code",
   "execution_count": 2,
   "metadata": {},
   "outputs": [],
   "source": [
    "# parse input file and returns number of lines and array with file data\n",
    "def filein (fname):\n",
    "    numlines=0\n",
    "    xin=[]\n",
    "    f=open(fname,'r')\n",
    "    for line in f:\n",
    "        #print (line, end='')\n",
    "        xin.append(line)\n",
    "        numlines=numlines+1\n",
    "    f.close()\n",
    "    return xin,numlines"
   ]
  },
  {
   "cell_type": "code",
   "execution_count": 3,
   "metadata": {},
   "outputs": [],
   "source": [
    "\n",
    "def getxn(fname):\n",
    "    data,numlines=filein(fname)\n",
    "    dataline=['0' for i in range(numlines)]\n",
    "    for i in range(numlines):\n",
    "        x=data[i]\n",
    "        y=x.split('\\t')\n",
    "        y[-1]=y[-1].replace('\\n','')\n",
    "        dataline[i]=y\n",
    "    #print ('\\n\\nascii-input',dataline)\n",
    "    xdata=dataline[:]\n",
    "    for i in range (numlines):\n",
    "        inline=len(dataline[i])\n",
    "        for j in range (inline):\n",
    "            if xdata[i][j] != '':\n",
    "                xdata[i][j]=eval(xdata[i][j])\n",
    "            else:\n",
    "                xdata[i][j]=None\n",
    "    #print ('dataline',dataline)\n",
    "    #print ('xdata',xdata)\n",
    "    return xdata, numlines"
   ]
  },
  {
   "cell_type": "code",
   "execution_count": 4,
   "metadata": {},
   "outputs": [],
   "source": [
    "def fileout (filename,filedata):\n",
    "    f2=open(filename,'w')\n",
    "    f2.write(filedata)\n",
    "    f2.close()"
   ]
  },
  {
   "cell_type": "code",
   "execution_count": null,
   "metadata": {},
   "outputs": [],
   "source": [
    "def outmake(x):\n",
    "    outstring=''\n",
    "    personso=len(x)\n",
    "    timeslotso=len(x[0])\n",
    "    for i in range (personso):\n",
    "        for j in range (timeslotso):\n",
    "            outstring=outstring + str(x[i][j]) + '\\t'\n",
    "        outstring=outstring+'\\n'\n",
    "    outstring=outstring[0:-1]\n",
    "    return outstring"
   ]
  },
  {
   "cell_type": "code",
   "execution_count": null,
   "metadata": {},
   "outputs": [
    {
     "name": "stdout",
     "output_type": "stream",
     "text": [
      "Do you want to INPUT data to a file (y/n), Def.=n y\n"
     ]
    }
   ],
   "source": [
    "intest=input('Do you want to INPUT data to a file (y/n), Def.=n ')\n",
    "intest=intest.lower()\n",
    "# if intest.find('n') == -1:\n",
    "if intest == 'y':\n",
    "    filename=input ('Please give me filename, e.g. input.txt         ')\n",
    "    print ('\\nfilename=   ',filename)\n",
    "    filein (filename)\n",
    "    print ('\\nfile read')\n",
    "c,numc=getxn(filename)\n",
    "print ('\\nnumber= ',numc,'\\ndata= \\n',c)"
   ]
  },
  {
   "cell_type": "code",
   "execution_count": null,
   "metadata": {},
   "outputs": [],
   "source": [
    "nx=int(np.sqrt(numc))\n",
    "ny=int(np.sqrt(numc))\n",
    "x=np.zeros((nx,ny))\n",
    "y=np.zeros((nx,ny))\n",
    "z=np.zeros((nx,ny))\n",
    "xa=np.array(x)\n",
    "ya=np.array(y)\n",
    "za=np.array(z)\n",
    "\n",
    "ca=np.array(c)\n",
    "num=0"
   ]
  },
  {
   "cell_type": "code",
   "execution_count": null,
   "metadata": {},
   "outputs": [],
   "source": [
    "for iout in range(nx):\n",
    "    for jout in range(ny):\n",
    "        xa[iout][jout]=c[num][0]\n",
    "        ya[iout][jout]=c[num][1]\n",
    "        za[iout][jout]=c[num][2]\n",
    "        num=num+1"
   ]
  },
  {
   "cell_type": "markdown",
   "metadata": {},
   "source": [
    "### Randomize given data and prompt what % of data to use in test"
   ]
  },
  {
   "cell_type": "code",
   "execution_count": null,
   "metadata": {},
   "outputs": [],
   "source": [
    "np.random.shuffle(ca)\n",
    "dataPercentage = input(\"percent of data used?\")\n",
    "dataPercentage = float(dataPercentage)\n",
    "if dataPercentage <= 1 and dataPercentage > 0:\n",
    "#     print(ca)\n",
    "#     print(dataPercentage)\n",
    "    amountRemaining = (ca.size/3) - (ca.size/3) * dataPercentage\n",
    "    amountRemaining = round(amountRemaining)\n",
    "    print(amountRemaining)\n",
    "    ca = ca[amountRemaining:]\n",
    "#     print(ca)"
   ]
  },
  {
   "cell_type": "markdown",
   "metadata": {},
   "source": [
    "## KMeans Section"
   ]
  },
  {
   "cell_type": "code",
   "execution_count": null,
   "metadata": {
    "scrolled": true
   },
   "outputs": [],
   "source": [
    "from sklearn.cluster import KMeans\n",
    "from sklearn import metrics\n",
    "from scipy.spatial.distance import cdist\n",
    "\n",
    "#finds distortions by trying different amount of k values\n",
    "distortions = []\n",
    "K = range(1,10)\n",
    "for k in K:\n",
    "        kmean = KMeans (n_clusters = k)\n",
    "        kmean.fit(ca)\n",
    "        distortions.append(sum(np.min(cdist(ca, kmean.cluster_centers_, 'euclidean'), axis = 1)) / ca.shape[0])\n",
    "\n",
    "# graph labels\n",
    "plt.plot(K, distortions, 'bx-')\n",
    "plt.xlabel('k')\n",
    "plt.ylabel('Distortion')\n",
    "plt.title('Elbow Method')\n",
    "plt.show()        "
   ]
  },
  {
   "cell_type": "code",
   "execution_count": null,
   "metadata": {},
   "outputs": [],
   "source": [
    "# Prompt user to select k value based on the graph above\n",
    "# and creates a 3d kmeans graph\n",
    "clusters = int(input('Define k:'))\n",
    "\n",
    "%matplotlib notebook\n",
    "fig = plt.figure()\n",
    "kmeans = KMeans(n_clusters = clusters) # Method to initializing defaults to init = k-means++\n",
    "ax = Axes3D(fig)\n",
    "kmeans.fit(ca)\n",
    "y_kmeans = kmeans.predict(ca)\n",
    "\n",
    "ax.scatter(ca[:,0], ca[:,1], ca[:,2], c = y_kmeans, edgecolor = 'k')\n",
    "\n",
    "centers = kmeans.cluster_centers_\n",
    "ax.scatter(centers[:, 0], centers[:, 1], centers[:, 2], c = 'black', s = 200, alpha = 0.5)\n",
    "\n",
    "ax.w_xaxis.set_ticklabels([])\n",
    "ax.w_yaxis.set_ticklabels([])\n",
    "ax.w_zaxis.set_ticklabels([])\n",
    "ax.set_xlabel('x')\n",
    "ax.set_ylabel('y')\n",
    "ax.set_zlabel('z')\n",
    "\n",
    "plt.show()"
   ]
  },
  {
   "cell_type": "code",
   "execution_count": null,
   "metadata": {},
   "outputs": [],
   "source": [
    "\n",
    "from numpy import array\n",
    "temp = array(list(zip(y_kmeans, ca[:,0], ca[:,1], ca[:,2])))\n",
    "print(temp)\n",
    "np.random.shuffle(temp)\n",
    "print(temp)\n",
    "\n",
    "XP = temp[:,[1,2,3]]\n",
    "y = temp[:, [0]]\n",
    "y = y.ravel()\n",
    "# dataclass = test[:,:1]\n",
    "# samplePoints = np.delete(test,[0],1)\n",
    "# print(dataclass)"
   ]
  },
  {
   "cell_type": "markdown",
   "metadata": {},
   "source": [
    "## KNN Section"
   ]
  },
  {
   "cell_type": "code",
   "execution_count": null,
   "metadata": {},
   "outputs": [],
   "source": [
    "import sklearn\n",
    "\n",
    "from sklearn.model_selection import train_test_split, cross_validate\n",
    "from sklearn import preprocessing, neighbors"
   ]
  },
  {
   "cell_type": "code",
   "execution_count": null,
   "metadata": {},
   "outputs": [],
   "source": [
    "# Sets up two groups, test and train, for knn\n",
    "X = preprocessing.scale(XP)\n",
    "X_train, X_test, y_train, y_test = train_test_split(X, y, test_size = .3) #random_state parameter for seeded random state\n"
   ]
  },
  {
   "cell_type": "code",
   "execution_count": null,
   "metadata": {},
   "outputs": [],
   "source": [
    "clf = neighbors.KNeighborsClassifier()\n",
    "clf.fit(X_train, y_train)\n",
    "print(clf)"
   ]
  },
  {
   "cell_type": "code",
   "execution_count": null,
   "metadata": {},
   "outputs": [],
   "source": [
    "from sklearn.metrics import classification_report, confusion_matrix\n",
    "\n",
    "y_expect = y_test\n",
    "y_pred = clf.predict(X_test)\n",
    "\n",
    "print(classification_report(y_expect,y_pred))"
   ]
  },
  {
   "cell_type": "code",
   "execution_count": null,
   "metadata": {},
   "outputs": [],
   "source": [
    "error_rate = []\n",
    "\n",
    "for i in range(1, 40):\n",
    "    knn = neighbors.KNeighborsClassifier(n_neighbors = i)\n",
    "    knn.fit(X_train, y_train)\n",
    "    predict_i = knn.predict(X_test)\n",
    "    error_rate.append(np.mean(predict_i != y_test))"
   ]
  },
  {
   "cell_type": "code",
   "execution_count": null,
   "metadata": {},
   "outputs": [],
   "source": [
    "# elbow graph for knn\n",
    "\n",
    "plt.figure(figsize = (10, 6))\n",
    "plt.plot(range(1,40), error_rate, color='blue', linestyle='dashed', marker='o', markerfacecolor='red', markersize=6)\n",
    "plt.title('Error Rate vs K Value')\n",
    "plt.xlabel('K')\n",
    "plt.ylabel('Error Rate')"
   ]
  },
  {
   "cell_type": "code",
   "execution_count": null,
   "metadata": {},
   "outputs": [],
   "source": [
    "# When K = 2\n",
    "knn = neighbors.KNeighborsClassifier(n_neighbors=2)\n",
    "knn.fit(X_train, y_train)\n",
    "predict = knn.predict(X_test)\n",
    "\n",
    "print('With K=2\\n')\n",
    "print(classification_report(y_test, predict))"
   ]
  },
  {
   "cell_type": "code",
   "execution_count": null,
   "metadata": {},
   "outputs": [],
   "source": [
    "# training set graph\n",
    "%matplotlib notebook\n",
    "fig = plt.figure()\n",
    "ax = Axes3D(fig)\n",
    "\n",
    "ax.scatter(X_train[:,0], X_train[:,1], X_train[:,2], c = y_train, edgecolor = 'k')\n",
    "\n",
    "ax.w_xaxis.set_ticklabels([])\n",
    "ax.w_yaxis.set_ticklabels([])\n",
    "ax.w_zaxis.set_ticklabels([])\n",
    "ax.set_xlabel('x')\n",
    "ax.set_ylabel('y')\n",
    "ax.set_zlabel('z')\n",
    "\n",
    "plt.show()\n"
   ]
  },
  {
   "cell_type": "code",
   "execution_count": null,
   "metadata": {},
   "outputs": [],
   "source": [
    "# testing set graph\n",
    "%matplotlib notebook\n",
    "fig = plt.figure()\n",
    "ax = Axes3D(fig)\n",
    "\n",
    "ax.scatter(X_test[:,0], X_test[:,1], X_test[:,2], c = y_test, edgecolor = 'k')\n",
    "\n",
    "ax.w_xaxis.set_ticklabels([])\n",
    "ax.w_yaxis.set_ticklabels([])\n",
    "ax.w_zaxis.set_ticklabels([])\n",
    "ax.set_xlabel('x')\n",
    "ax.set_ylabel('y')\n",
    "ax.set_zlabel('z')\n",
    "\n",
    "plt.show()"
   ]
  },
  {
   "cell_type": "code",
   "execution_count": null,
   "metadata": {},
   "outputs": [],
   "source": []
  }
 ],
 "metadata": {
  "kernelspec": {
   "display_name": "Python 3",
   "language": "python",
   "name": "python3"
  },
  "language_info": {
   "codemirror_mode": {
    "name": "ipython",
    "version": 3
   },
   "file_extension": ".py",
   "mimetype": "text/x-python",
   "name": "python",
   "nbconvert_exporter": "python",
   "pygments_lexer": "ipython3",
   "version": "3.7.1"
  }
 },
 "nbformat": 4,
 "nbformat_minor": 2
}
